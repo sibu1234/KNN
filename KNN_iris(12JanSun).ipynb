{
 "cells": [
  {
   "cell_type": "code",
   "execution_count": 1,
   "metadata": {},
   "outputs": [],
   "source": [
    "import numpy as np\n",
    "import matplotlib.pyplot as plt\n",
    "import pandas as pd"
   ]
  },
  {
   "cell_type": "code",
   "execution_count": 2,
   "metadata": {},
   "outputs": [
    {
     "data": {
      "text/html": [
       "<div>\n",
       "<style scoped>\n",
       "    .dataframe tbody tr th:only-of-type {\n",
       "        vertical-align: middle;\n",
       "    }\n",
       "\n",
       "    .dataframe tbody tr th {\n",
       "        vertical-align: top;\n",
       "    }\n",
       "\n",
       "    .dataframe thead th {\n",
       "        text-align: right;\n",
       "    }\n",
       "</style>\n",
       "<table border=\"1\" class=\"dataframe\">\n",
       "  <thead>\n",
       "    <tr style=\"text-align: right;\">\n",
       "      <th></th>\n",
       "      <th>sepal-length</th>\n",
       "      <th>sepal-width</th>\n",
       "      <th>petal-length</th>\n",
       "      <th>petal-width</th>\n",
       "      <th>Class</th>\n",
       "    </tr>\n",
       "  </thead>\n",
       "  <tbody>\n",
       "    <tr>\n",
       "      <td>0</td>\n",
       "      <td>5.1</td>\n",
       "      <td>3.5</td>\n",
       "      <td>1.4</td>\n",
       "      <td>0.2</td>\n",
       "      <td>Iris-setosa</td>\n",
       "    </tr>\n",
       "    <tr>\n",
       "      <td>1</td>\n",
       "      <td>4.9</td>\n",
       "      <td>3.0</td>\n",
       "      <td>1.4</td>\n",
       "      <td>0.2</td>\n",
       "      <td>Iris-setosa</td>\n",
       "    </tr>\n",
       "    <tr>\n",
       "      <td>2</td>\n",
       "      <td>4.7</td>\n",
       "      <td>3.2</td>\n",
       "      <td>1.3</td>\n",
       "      <td>0.2</td>\n",
       "      <td>Iris-setosa</td>\n",
       "    </tr>\n",
       "    <tr>\n",
       "      <td>3</td>\n",
       "      <td>4.6</td>\n",
       "      <td>3.1</td>\n",
       "      <td>1.5</td>\n",
       "      <td>0.2</td>\n",
       "      <td>Iris-setosa</td>\n",
       "    </tr>\n",
       "    <tr>\n",
       "      <td>4</td>\n",
       "      <td>5.0</td>\n",
       "      <td>3.6</td>\n",
       "      <td>1.4</td>\n",
       "      <td>0.2</td>\n",
       "      <td>Iris-setosa</td>\n",
       "    </tr>\n",
       "  </tbody>\n",
       "</table>\n",
       "</div>"
      ],
      "text/plain": [
       "   sepal-length  sepal-width  petal-length  petal-width        Class\n",
       "0           5.1          3.5           1.4          0.2  Iris-setosa\n",
       "1           4.9          3.0           1.4          0.2  Iris-setosa\n",
       "2           4.7          3.2           1.3          0.2  Iris-setosa\n",
       "3           4.6          3.1           1.5          0.2  Iris-setosa\n",
       "4           5.0          3.6           1.4          0.2  Iris-setosa"
      ]
     },
     "execution_count": 2,
     "metadata": {},
     "output_type": "execute_result"
    }
   ],
   "source": [
    "url=\"https://archive.ics.uci.edu/ml/machine-learning-databases/iris/iris.data\"\n",
    "names=['sepal-length','sepal-width','petal-length','petal-width','Class']\n",
    "dataset=pd.read_csv(url,names=names)\n",
    "dataset.head()"
   ]
  },
  {
   "cell_type": "code",
   "execution_count": 3,
   "metadata": {},
   "outputs": [
    {
     "data": {
      "text/plain": [
       "array(['Iris-setosa', 'Iris-setosa', 'Iris-setosa', 'Iris-setosa',\n",
       "       'Iris-setosa', 'Iris-setosa', 'Iris-setosa', 'Iris-setosa',\n",
       "       'Iris-setosa', 'Iris-setosa', 'Iris-setosa', 'Iris-setosa',\n",
       "       'Iris-setosa', 'Iris-setosa', 'Iris-setosa', 'Iris-setosa',\n",
       "       'Iris-setosa', 'Iris-setosa', 'Iris-setosa', 'Iris-setosa',\n",
       "       'Iris-setosa', 'Iris-setosa', 'Iris-setosa', 'Iris-setosa',\n",
       "       'Iris-setosa', 'Iris-setosa', 'Iris-setosa', 'Iris-setosa',\n",
       "       'Iris-setosa', 'Iris-setosa', 'Iris-setosa', 'Iris-setosa',\n",
       "       'Iris-setosa', 'Iris-setosa', 'Iris-setosa', 'Iris-setosa',\n",
       "       'Iris-setosa', 'Iris-setosa', 'Iris-setosa', 'Iris-setosa',\n",
       "       'Iris-setosa', 'Iris-setosa', 'Iris-setosa', 'Iris-setosa',\n",
       "       'Iris-setosa', 'Iris-setosa', 'Iris-setosa', 'Iris-setosa',\n",
       "       'Iris-setosa', 'Iris-setosa', 'Iris-versicolor', 'Iris-versicolor',\n",
       "       'Iris-versicolor', 'Iris-versicolor', 'Iris-versicolor',\n",
       "       'Iris-versicolor', 'Iris-versicolor', 'Iris-versicolor',\n",
       "       'Iris-versicolor', 'Iris-versicolor', 'Iris-versicolor',\n",
       "       'Iris-versicolor', 'Iris-versicolor', 'Iris-versicolor',\n",
       "       'Iris-versicolor', 'Iris-versicolor', 'Iris-versicolor',\n",
       "       'Iris-versicolor', 'Iris-versicolor', 'Iris-versicolor',\n",
       "       'Iris-versicolor', 'Iris-versicolor', 'Iris-versicolor',\n",
       "       'Iris-versicolor', 'Iris-versicolor', 'Iris-versicolor',\n",
       "       'Iris-versicolor', 'Iris-versicolor', 'Iris-versicolor',\n",
       "       'Iris-versicolor', 'Iris-versicolor', 'Iris-versicolor',\n",
       "       'Iris-versicolor', 'Iris-versicolor', 'Iris-versicolor',\n",
       "       'Iris-versicolor', 'Iris-versicolor', 'Iris-versicolor',\n",
       "       'Iris-versicolor', 'Iris-versicolor', 'Iris-versicolor',\n",
       "       'Iris-versicolor', 'Iris-versicolor', 'Iris-versicolor',\n",
       "       'Iris-versicolor', 'Iris-versicolor', 'Iris-versicolor',\n",
       "       'Iris-versicolor', 'Iris-versicolor', 'Iris-versicolor',\n",
       "       'Iris-virginica', 'Iris-virginica', 'Iris-virginica',\n",
       "       'Iris-virginica', 'Iris-virginica', 'Iris-virginica',\n",
       "       'Iris-virginica', 'Iris-virginica', 'Iris-virginica',\n",
       "       'Iris-virginica', 'Iris-virginica', 'Iris-virginica',\n",
       "       'Iris-virginica', 'Iris-virginica', 'Iris-virginica',\n",
       "       'Iris-virginica', 'Iris-virginica', 'Iris-virginica',\n",
       "       'Iris-virginica', 'Iris-virginica', 'Iris-virginica',\n",
       "       'Iris-virginica', 'Iris-virginica', 'Iris-virginica',\n",
       "       'Iris-virginica', 'Iris-virginica', 'Iris-virginica',\n",
       "       'Iris-virginica', 'Iris-virginica', 'Iris-virginica',\n",
       "       'Iris-virginica', 'Iris-virginica', 'Iris-virginica',\n",
       "       'Iris-virginica', 'Iris-virginica', 'Iris-virginica',\n",
       "       'Iris-virginica', 'Iris-virginica', 'Iris-virginica',\n",
       "       'Iris-virginica', 'Iris-virginica', 'Iris-virginica',\n",
       "       'Iris-virginica', 'Iris-virginica', 'Iris-virginica',\n",
       "       'Iris-virginica', 'Iris-virginica', 'Iris-virginica',\n",
       "       'Iris-virginica', 'Iris-virginica'], dtype=object)"
      ]
     },
     "execution_count": 3,
     "metadata": {},
     "output_type": "execute_result"
    }
   ],
   "source": [
    "y=dataset.iloc[:,-1].values\n",
    "y"
   ]
  },
  {
   "cell_type": "code",
   "execution_count": 4,
   "metadata": {},
   "outputs": [
    {
     "name": "stdout",
     "output_type": "stream",
     "text": [
      "[[5.1 3.5 1.4 0.2]\n",
      " [4.9 3.  1.4 0.2]\n",
      " [4.7 3.2 1.3 0.2]\n",
      " [4.6 3.1 1.5 0.2]\n",
      " [5.  3.6 1.4 0.2]\n",
      " [5.4 3.9 1.7 0.4]\n",
      " [4.6 3.4 1.4 0.3]\n",
      " [5.  3.4 1.5 0.2]\n",
      " [4.4 2.9 1.4 0.2]\n",
      " [4.9 3.1 1.5 0.1]\n",
      " [5.4 3.7 1.5 0.2]\n",
      " [4.8 3.4 1.6 0.2]\n",
      " [4.8 3.  1.4 0.1]\n",
      " [4.3 3.  1.1 0.1]\n",
      " [5.8 4.  1.2 0.2]\n",
      " [5.7 4.4 1.5 0.4]\n",
      " [5.4 3.9 1.3 0.4]\n",
      " [5.1 3.5 1.4 0.3]\n",
      " [5.7 3.8 1.7 0.3]\n",
      " [5.1 3.8 1.5 0.3]\n",
      " [5.4 3.4 1.7 0.2]\n",
      " [5.1 3.7 1.5 0.4]\n",
      " [4.6 3.6 1.  0.2]\n",
      " [5.1 3.3 1.7 0.5]\n",
      " [4.8 3.4 1.9 0.2]\n",
      " [5.  3.  1.6 0.2]\n",
      " [5.  3.4 1.6 0.4]\n",
      " [5.2 3.5 1.5 0.2]\n",
      " [5.2 3.4 1.4 0.2]\n",
      " [4.7 3.2 1.6 0.2]\n",
      " [4.8 3.1 1.6 0.2]\n",
      " [5.4 3.4 1.5 0.4]\n",
      " [5.2 4.1 1.5 0.1]\n",
      " [5.5 4.2 1.4 0.2]\n",
      " [4.9 3.1 1.5 0.1]\n",
      " [5.  3.2 1.2 0.2]\n",
      " [5.5 3.5 1.3 0.2]\n",
      " [4.9 3.1 1.5 0.1]\n",
      " [4.4 3.  1.3 0.2]\n",
      " [5.1 3.4 1.5 0.2]\n",
      " [5.  3.5 1.3 0.3]\n",
      " [4.5 2.3 1.3 0.3]\n",
      " [4.4 3.2 1.3 0.2]\n",
      " [5.  3.5 1.6 0.6]\n",
      " [5.1 3.8 1.9 0.4]\n",
      " [4.8 3.  1.4 0.3]\n",
      " [5.1 3.8 1.6 0.2]\n",
      " [4.6 3.2 1.4 0.2]\n",
      " [5.3 3.7 1.5 0.2]\n",
      " [5.  3.3 1.4 0.2]\n",
      " [7.  3.2 4.7 1.4]\n",
      " [6.4 3.2 4.5 1.5]\n",
      " [6.9 3.1 4.9 1.5]\n",
      " [5.5 2.3 4.  1.3]\n",
      " [6.5 2.8 4.6 1.5]\n",
      " [5.7 2.8 4.5 1.3]\n",
      " [6.3 3.3 4.7 1.6]\n",
      " [4.9 2.4 3.3 1. ]\n",
      " [6.6 2.9 4.6 1.3]\n",
      " [5.2 2.7 3.9 1.4]\n",
      " [5.  2.  3.5 1. ]\n",
      " [5.9 3.  4.2 1.5]\n",
      " [6.  2.2 4.  1. ]\n",
      " [6.1 2.9 4.7 1.4]\n",
      " [5.6 2.9 3.6 1.3]\n",
      " [6.7 3.1 4.4 1.4]\n",
      " [5.6 3.  4.5 1.5]\n",
      " [5.8 2.7 4.1 1. ]\n",
      " [6.2 2.2 4.5 1.5]\n",
      " [5.6 2.5 3.9 1.1]\n",
      " [5.9 3.2 4.8 1.8]\n",
      " [6.1 2.8 4.  1.3]\n",
      " [6.3 2.5 4.9 1.5]\n",
      " [6.1 2.8 4.7 1.2]\n",
      " [6.4 2.9 4.3 1.3]\n",
      " [6.6 3.  4.4 1.4]\n",
      " [6.8 2.8 4.8 1.4]\n",
      " [6.7 3.  5.  1.7]\n",
      " [6.  2.9 4.5 1.5]\n",
      " [5.7 2.6 3.5 1. ]\n",
      " [5.5 2.4 3.8 1.1]\n",
      " [5.5 2.4 3.7 1. ]\n",
      " [5.8 2.7 3.9 1.2]\n",
      " [6.  2.7 5.1 1.6]\n",
      " [5.4 3.  4.5 1.5]\n",
      " [6.  3.4 4.5 1.6]\n",
      " [6.7 3.1 4.7 1.5]\n",
      " [6.3 2.3 4.4 1.3]\n",
      " [5.6 3.  4.1 1.3]\n",
      " [5.5 2.5 4.  1.3]\n",
      " [5.5 2.6 4.4 1.2]\n",
      " [6.1 3.  4.6 1.4]\n",
      " [5.8 2.6 4.  1.2]\n",
      " [5.  2.3 3.3 1. ]\n",
      " [5.6 2.7 4.2 1.3]\n",
      " [5.7 3.  4.2 1.2]\n",
      " [5.7 2.9 4.2 1.3]\n",
      " [6.2 2.9 4.3 1.3]\n",
      " [5.1 2.5 3.  1.1]\n",
      " [5.7 2.8 4.1 1.3]\n",
      " [6.3 3.3 6.  2.5]\n",
      " [5.8 2.7 5.1 1.9]\n",
      " [7.1 3.  5.9 2.1]\n",
      " [6.3 2.9 5.6 1.8]\n",
      " [6.5 3.  5.8 2.2]\n",
      " [7.6 3.  6.6 2.1]\n",
      " [4.9 2.5 4.5 1.7]\n",
      " [7.3 2.9 6.3 1.8]\n",
      " [6.7 2.5 5.8 1.8]\n",
      " [7.2 3.6 6.1 2.5]\n",
      " [6.5 3.2 5.1 2. ]\n",
      " [6.4 2.7 5.3 1.9]\n",
      " [6.8 3.  5.5 2.1]\n",
      " [5.7 2.5 5.  2. ]\n",
      " [5.8 2.8 5.1 2.4]\n",
      " [6.4 3.2 5.3 2.3]\n",
      " [6.5 3.  5.5 1.8]\n",
      " [7.7 3.8 6.7 2.2]\n",
      " [7.7 2.6 6.9 2.3]\n",
      " [6.  2.2 5.  1.5]\n",
      " [6.9 3.2 5.7 2.3]\n",
      " [5.6 2.8 4.9 2. ]\n",
      " [7.7 2.8 6.7 2. ]\n",
      " [6.3 2.7 4.9 1.8]\n",
      " [6.7 3.3 5.7 2.1]\n",
      " [7.2 3.2 6.  1.8]\n",
      " [6.2 2.8 4.8 1.8]\n",
      " [6.1 3.  4.9 1.8]\n",
      " [6.4 2.8 5.6 2.1]\n",
      " [7.2 3.  5.8 1.6]\n",
      " [7.4 2.8 6.1 1.9]\n",
      " [7.9 3.8 6.4 2. ]\n",
      " [6.4 2.8 5.6 2.2]\n",
      " [6.3 2.8 5.1 1.5]\n",
      " [6.1 2.6 5.6 1.4]\n",
      " [7.7 3.  6.1 2.3]\n",
      " [6.3 3.4 5.6 2.4]\n",
      " [6.4 3.1 5.5 1.8]\n",
      " [6.  3.  4.8 1.8]\n",
      " [6.9 3.1 5.4 2.1]\n",
      " [6.7 3.1 5.6 2.4]\n",
      " [6.9 3.1 5.1 2.3]\n",
      " [5.8 2.7 5.1 1.9]\n",
      " [6.8 3.2 5.9 2.3]\n",
      " [6.7 3.3 5.7 2.5]\n",
      " [6.7 3.  5.2 2.3]\n",
      " [6.3 2.5 5.  1.9]\n",
      " [6.5 3.  5.2 2. ]\n",
      " [6.2 3.4 5.4 2.3]\n",
      " [5.9 3.  5.1 1.8]]\n",
      "['Iris-setosa' 'Iris-setosa' 'Iris-setosa' 'Iris-setosa' 'Iris-setosa'\n",
      " 'Iris-setosa' 'Iris-setosa' 'Iris-setosa' 'Iris-setosa' 'Iris-setosa'\n",
      " 'Iris-setosa' 'Iris-setosa' 'Iris-setosa' 'Iris-setosa' 'Iris-setosa'\n",
      " 'Iris-setosa' 'Iris-setosa' 'Iris-setosa' 'Iris-setosa' 'Iris-setosa'\n",
      " 'Iris-setosa' 'Iris-setosa' 'Iris-setosa' 'Iris-setosa' 'Iris-setosa'\n",
      " 'Iris-setosa' 'Iris-setosa' 'Iris-setosa' 'Iris-setosa' 'Iris-setosa'\n",
      " 'Iris-setosa' 'Iris-setosa' 'Iris-setosa' 'Iris-setosa' 'Iris-setosa'\n",
      " 'Iris-setosa' 'Iris-setosa' 'Iris-setosa' 'Iris-setosa' 'Iris-setosa'\n",
      " 'Iris-setosa' 'Iris-setosa' 'Iris-setosa' 'Iris-setosa' 'Iris-setosa'\n",
      " 'Iris-setosa' 'Iris-setosa' 'Iris-setosa' 'Iris-setosa' 'Iris-setosa'\n",
      " 'Iris-versicolor' 'Iris-versicolor' 'Iris-versicolor' 'Iris-versicolor'\n",
      " 'Iris-versicolor' 'Iris-versicolor' 'Iris-versicolor' 'Iris-versicolor'\n",
      " 'Iris-versicolor' 'Iris-versicolor' 'Iris-versicolor' 'Iris-versicolor'\n",
      " 'Iris-versicolor' 'Iris-versicolor' 'Iris-versicolor' 'Iris-versicolor'\n",
      " 'Iris-versicolor' 'Iris-versicolor' 'Iris-versicolor' 'Iris-versicolor'\n",
      " 'Iris-versicolor' 'Iris-versicolor' 'Iris-versicolor' 'Iris-versicolor'\n",
      " 'Iris-versicolor' 'Iris-versicolor' 'Iris-versicolor' 'Iris-versicolor'\n",
      " 'Iris-versicolor' 'Iris-versicolor' 'Iris-versicolor' 'Iris-versicolor'\n",
      " 'Iris-versicolor' 'Iris-versicolor' 'Iris-versicolor' 'Iris-versicolor'\n",
      " 'Iris-versicolor' 'Iris-versicolor' 'Iris-versicolor' 'Iris-versicolor'\n",
      " 'Iris-versicolor' 'Iris-versicolor' 'Iris-versicolor' 'Iris-versicolor'\n",
      " 'Iris-versicolor' 'Iris-versicolor' 'Iris-versicolor' 'Iris-versicolor'\n",
      " 'Iris-versicolor' 'Iris-versicolor' 'Iris-virginica' 'Iris-virginica'\n",
      " 'Iris-virginica' 'Iris-virginica' 'Iris-virginica' 'Iris-virginica'\n",
      " 'Iris-virginica' 'Iris-virginica' 'Iris-virginica' 'Iris-virginica'\n",
      " 'Iris-virginica' 'Iris-virginica' 'Iris-virginica' 'Iris-virginica'\n",
      " 'Iris-virginica' 'Iris-virginica' 'Iris-virginica' 'Iris-virginica'\n",
      " 'Iris-virginica' 'Iris-virginica' 'Iris-virginica' 'Iris-virginica'\n",
      " 'Iris-virginica' 'Iris-virginica' 'Iris-virginica' 'Iris-virginica'\n",
      " 'Iris-virginica' 'Iris-virginica' 'Iris-virginica' 'Iris-virginica'\n",
      " 'Iris-virginica' 'Iris-virginica' 'Iris-virginica' 'Iris-virginica'\n",
      " 'Iris-virginica' 'Iris-virginica' 'Iris-virginica' 'Iris-virginica'\n",
      " 'Iris-virginica' 'Iris-virginica' 'Iris-virginica' 'Iris-virginica'\n",
      " 'Iris-virginica' 'Iris-virginica' 'Iris-virginica' 'Iris-virginica'\n",
      " 'Iris-virginica' 'Iris-virginica' 'Iris-virginica' 'Iris-virginica']\n"
     ]
    }
   ],
   "source": [
    "x=dataset.iloc[:,:-1].values\n",
    "y=dataset.iloc[:,4].values\n",
    "print(x)\n",
    "print(y)"
   ]
  },
  {
   "cell_type": "code",
   "execution_count": 5,
   "metadata": {},
   "outputs": [],
   "source": [
    "from sklearn.model_selection import train_test_split\n",
    "x_train,x_test,y_train,y_test= train_test_split(x,y,test_size=0.2)"
   ]
  },
  {
   "cell_type": "code",
   "execution_count": 6,
   "metadata": {},
   "outputs": [],
   "source": [
    "from sklearn.preprocessing import StandardScaler\n",
    "\n",
    "scaler1=StandardScaler()\n",
    "scaler1.fit(x_train)\n",
    "\n",
    "x_train=scaler1.transform(x_train)\n",
    "x_test=scaler1.transform(x_test)"
   ]
  },
  {
   "cell_type": "code",
   "execution_count": 7,
   "metadata": {},
   "outputs": [
    {
     "data": {
      "text/plain": [
       "array([[ 0.49699723, -1.92485901,  0.43831871,  0.40369622],\n",
       "       [ 0.75024422, -0.5553941 ,  1.07692875,  1.33021215],\n",
       "       [ 1.38336171,  0.12933835,  0.78665146,  1.46257156],\n",
       "       [ 0.75024422,  0.3575825 ,  0.43831871,  0.40369622],\n",
       "       [-1.02248474,  1.27055911, -1.36140049, -1.31697621],\n",
       "       [ 0.37037373, -0.0989058 ,  0.49637417,  0.27133681],\n",
       "       [-1.02248474,  1.04231496, -1.41945595, -1.18461679],\n",
       "       [-0.13612026,  3.09651231, -1.30334504, -1.05225737],\n",
       "       [ 1.13011471,  0.12933835,  0.38026325,  0.27133681],\n",
       "       [ 2.26972619, -0.0989058 ,  1.65748333,  1.19785273],\n",
       "       [ 0.87686772, -0.5553941 ,  0.49637417,  0.40369622],\n",
       "       [-0.76923775, -0.78363825,  0.08998596,  0.27133681],\n",
       "       [-0.26274376, -0.5553941 ,  0.67054054,  1.06549331],\n",
       "       [ 0.37037373, -0.32714995,  0.55442963,  0.27133681],\n",
       "       [-0.89586124,  1.72704741, -1.24528958, -1.31697621],\n",
       "       [ 0.37037373, -0.5553941 ,  0.55442963,  0.00661797],\n",
       "       [ 1.7632322 ,  1.27055911,  1.36720604,  1.7272904 ],\n",
       "       [-0.13612026, -0.5553941 ,  0.20609688,  0.13897739],\n",
       "       [ 0.87686772,  0.3575825 ,  0.78665146,  1.06549331],\n",
       "       [-0.38936725, -1.69661486,  0.14804142,  0.13897739],\n",
       "       [ 0.75024422, -0.78363825,  0.90276237,  0.93313389],\n",
       "       [ 1.00349122, -0.0989058 ,  0.38026325,  0.27133681],\n",
       "       [-0.00949676, -0.78363825,  0.20609688, -0.25810086],\n",
       "       [-0.51599075,  1.95529156, -1.18723412, -1.05225737],\n",
       "       [-0.89586124,  0.81407081, -1.30334504, -1.31697621],\n",
       "       [-0.00949676, -1.0118824 ,  0.14804142,  0.00661797],\n",
       "       [ 1.13011471,  0.58582665,  1.13498421,  1.7272904 ],\n",
       "       [-0.13612026, -0.5553941 ,  0.43831871,  0.13897739],\n",
       "       [-1.02248474, -2.38134731, -0.14223587, -0.25810086],\n",
       "       [-1.40235523,  0.3575825 , -1.24528958, -1.31697621],\n",
       "       [-1.90884922, -0.0989058 , -1.53556687, -1.44933562],\n",
       "       [-1.27573173,  0.12933835, -1.24528958, -1.31697621],\n",
       "       [ 0.62362072, -1.69661486,  0.38026325,  0.13897739],\n",
       "       [ 0.11712673, -0.0989058 ,  0.78665146,  0.80077448],\n",
       "       [ 1.13011471,  0.58582665,  1.13498421,  1.19785273],\n",
       "       [-0.51599075,  1.49880326, -1.30334504, -1.31697621],\n",
       "       [ 1.25673821, -0.0989058 ,  1.01887329,  1.19785273],\n",
       "       [-0.13612026,  1.72704741, -1.18723412, -1.18461679],\n",
       "       [-0.51599075, -0.0989058 ,  0.43831871,  0.40369622],\n",
       "       [-1.02248474, -0.0989058 , -1.24528958, -1.31697621],\n",
       "       [ 0.24375023, -1.92485901,  0.14804142, -0.25810086],\n",
       "       [-1.14910824, -0.0989058 , -1.36140049, -1.31697621],\n",
       "       [ 1.13011471,  0.12933835,  0.55442963,  0.40369622],\n",
       "       [-1.27573173, -0.0989058 , -1.36140049, -1.18461679],\n",
       "       [-1.27573173, -0.0989058 , -1.36140049, -1.44933562],\n",
       "       [-1.02248474, -1.69661486, -0.25834679, -0.25810086],\n",
       "       [-0.76923775,  1.04231496, -1.30334504, -1.31697621],\n",
       "       [ 0.62362072,  0.58582665,  0.55442963,  0.53605564],\n",
       "       [-0.38936725, -1.0118824 ,  0.38026325,  0.00661797],\n",
       "       [-1.27573173,  0.81407081, -1.24528958, -1.31697621],\n",
       "       [ 1.13011471,  0.12933835,  1.07692875,  1.59493098],\n",
       "       [-1.02248474,  0.58582665, -1.36140049, -1.31697621],\n",
       "       [-0.38936725, -1.24012655,  0.14804142,  0.13897739],\n",
       "       [ 0.11712673,  0.3575825 ,  0.61248508,  0.80077448],\n",
       "       [ 0.37037373, -0.0989058 ,  0.67054054,  0.80077448],\n",
       "       [ 2.39634968, -0.5553941 ,  1.71553879,  1.06549331],\n",
       "       [-0.51599075,  1.95529156, -1.41945595, -1.05225737],\n",
       "       [ 0.24375023,  0.81407081,  0.43831871,  0.53605564],\n",
       "       [-0.89586124,  1.04231496, -1.36140049, -1.18461679],\n",
       "       [ 0.24375023, -0.32714995,  0.43831871,  0.40369622],\n",
       "       [ 0.62362072,  0.58582665,  1.30915058,  1.7272904 ],\n",
       "       [ 0.37037373, -1.0118824 ,  1.07692875,  0.27133681],\n",
       "       [ 0.62362072, -0.5553941 ,  0.78665146,  0.40369622],\n",
       "       [-0.26274376, -0.78363825,  0.26415233,  0.13897739],\n",
       "       [ 1.38336171,  0.12933835,  0.67054054,  0.40369622],\n",
       "       [ 0.24375023, -0.78363825,  0.78665146,  0.53605564],\n",
       "       [-1.52897873,  0.3575825 , -1.36140049, -1.31697621],\n",
       "       [ 0.62362072, -0.32714995,  1.07692875,  0.80077448],\n",
       "       [ 0.24375023, -0.0989058 ,  0.61248508,  0.80077448],\n",
       "       [-1.14910824, -1.24012655,  0.43831871,  0.66841506],\n",
       "       [-0.38936725, -1.4683707 , -0.02612496, -0.25810086],\n",
       "       [ 1.25673821,  0.3575825 ,  1.25109512,  1.46257156],\n",
       "       [-1.02248474,  0.81407081, -1.30334504, -1.31697621],\n",
       "       [-1.52897873,  0.81407081, -1.36140049, -1.18461679],\n",
       "       [-1.78222572, -0.32714995, -1.36140049, -1.31697621],\n",
       "       [-0.00949676, -0.78363825,  0.78665146,  0.93313389],\n",
       "       [ 0.75024422, -0.32714995,  0.32220779,  0.13897739],\n",
       "       [-0.00949676, -0.5553941 ,  0.78665146,  1.59493098],\n",
       "       [-1.14910824, -1.4683707 , -0.25834679, -0.25810086],\n",
       "       [-1.52897873,  1.27055911, -1.59362233, -1.31697621],\n",
       "       [ 1.13011471, -0.0989058 ,  0.728596  ,  0.66841506],\n",
       "       [ 1.25673821, -0.5553941 ,  0.61248508,  0.27133681],\n",
       "       [ 0.11712673, -0.0989058 ,  0.26415233,  0.40369622],\n",
       "       [-1.40235523,  0.3575825 , -1.41945595, -1.31697621],\n",
       "       [ 1.13011471, -1.24012655,  1.19303966,  0.80077448],\n",
       "       [-0.76923775,  0.81407081, -1.36140049, -1.31697621],\n",
       "       [-1.02248474,  0.81407081, -1.24528958, -1.05225737],\n",
       "       [-1.65560223, -1.69661486, -1.41945595, -1.18461679],\n",
       "       [-1.78222572,  0.3575825 , -1.41945595, -1.31697621],\n",
       "       [-0.89586124, -1.24012655, -0.43251316, -0.12574145],\n",
       "       [-0.38936725,  1.04231496, -1.41945595, -1.31697621],\n",
       "       [-1.27573173,  0.81407081, -1.0711232 , -1.31697621],\n",
       "       [ 0.62362072, -1.24012655,  0.67054054,  0.40369622],\n",
       "       [ 0.49699723,  0.81407081,  0.96081783,  1.46257156],\n",
       "       [ 2.39634968, -1.0118824 ,  1.8316497 ,  1.46257156],\n",
       "       [-0.76923775,  2.41177986, -1.30334504, -1.44933562],\n",
       "       [-0.51599075,  0.81407081, -1.18723412, -1.31697621],\n",
       "       [-1.02248474,  1.04231496, -1.24528958, -0.78753853],\n",
       "       [-0.64261425,  1.49880326, -1.30334504, -1.31697621],\n",
       "       [ 1.7632322 ,  0.3575825 ,  1.30915058,  0.80077448],\n",
       "       [-0.89586124,  1.04231496, -1.36140049, -1.31697621],\n",
       "       [ 1.38336171,  0.3575825 ,  1.13498421,  1.46257156],\n",
       "       [ 0.75024422,  0.12933835,  1.01887329,  0.80077448],\n",
       "       [-0.00949676, -0.78363825,  0.78665146,  0.93313389],\n",
       "       [-0.00949676,  2.18353571, -1.47751141, -1.31697621],\n",
       "       [ 0.87686772, -0.0989058 ,  0.84470692,  1.06549331],\n",
       "       [-1.14910824,  0.12933835, -1.30334504, -1.44933562],\n",
       "       [ 1.00349122, -0.32714995,  0.49637417,  0.13897739],\n",
       "       [ 0.75024422, -0.5553941 ,  1.07692875,  1.19785273],\n",
       "       [ 2.64959668,  1.72704741,  1.54137241,  1.06549331],\n",
       "       [-0.26274376, -1.24012655,  0.08998596, -0.12574145],\n",
       "       [ 0.24375023, -1.92485901,  0.728596  ,  0.40369622],\n",
       "       [-0.26274376, -0.0989058 ,  0.20609688,  0.13897739],\n",
       "       [-0.26274376, -0.32714995, -0.08418041,  0.13897739],\n",
       "       [-0.13612026, -0.0989058 ,  0.26415233,  0.00661797],\n",
       "       [ 0.62362072,  0.81407081,  1.07692875,  1.59493098],\n",
       "       [-0.38936725, -1.4683707 ,  0.0319305 , -0.12574145],\n",
       "       [ 0.49699723, -0.32714995,  0.32220779,  0.13897739],\n",
       "       [ 1.38336171,  0.12933835,  0.96081783,  1.19785273],\n",
       "       [ 0.75024422,  0.3575825 ,  0.90276237,  1.46257156]])"
      ]
     },
     "execution_count": 7,
     "metadata": {},
     "output_type": "execute_result"
    }
   ],
   "source": [
    "x_train"
   ]
  },
  {
   "cell_type": "code",
   "execution_count": 8,
   "metadata": {},
   "outputs": [
    {
     "data": {
      "text/plain": [
       "array([[ 1.13011471, -0.0989058 ,  0.84470692,  1.46257156],\n",
       "       [-0.13612026, -1.24012655,  0.728596  ,  1.06549331],\n",
       "       [ 0.87686772, -0.0989058 ,  1.19303966,  1.33021215],\n",
       "       [ 1.6366087 , -0.0989058 ,  1.25109512,  1.19785273],\n",
       "       [-0.89586124,  0.58582665, -1.18723412, -0.91989795],\n",
       "       [ 1.5099852 ,  0.3575825 ,  0.55442963,  0.27133681],\n",
       "       [ 2.39634968,  1.72704741,  1.71553879,  1.33021215],\n",
       "       [-1.78222572, -0.0989058 , -1.41945595, -1.31697621],\n",
       "       [-0.13612026, -1.0118824 , -0.14223587, -0.25810086],\n",
       "       [ 0.37037373, -0.5553941 ,  0.14804142,  0.13897739],\n",
       "       [ 1.7632322 , -0.0989058 ,  1.19303966,  0.53605564],\n",
       "       [ 0.49699723, -0.5553941 ,  0.61248508,  0.80077448],\n",
       "       [ 2.39634968, -0.0989058 ,  1.36720604,  1.46257156],\n",
       "       [-1.02248474,  0.3575825 , -1.47751141, -1.31697621],\n",
       "       [-0.51599075,  0.81407081, -1.30334504, -1.05225737],\n",
       "       [ 0.87686772, -0.0989058 ,  1.01887329,  0.80077448],\n",
       "       [-0.89586124,  1.49880326, -1.30334504, -1.05225737],\n",
       "       [-0.26274376, -0.0989058 ,  0.43831871,  0.40369622],\n",
       "       [-1.14910824,  0.12933835, -1.30334504, -1.44933562],\n",
       "       [-0.00949676, -0.78363825,  0.08998596,  0.00661797],\n",
       "       [-0.13612026, -0.32714995,  0.26415233,  0.13897739],\n",
       "       [ 0.62362072, -1.24012655,  0.728596  ,  0.93313389],\n",
       "       [-0.38936725,  2.64002401, -1.36140049, -1.31697621],\n",
       "       [-0.89586124,  1.72704741, -1.0711232 , -1.05225737],\n",
       "       [-1.14910824,  0.12933835, -1.30334504, -1.44933562],\n",
       "       [ 1.8898557 , -0.32714995,  1.48331696,  0.80077448],\n",
       "       [ 0.62362072, -0.78363825,  0.67054054,  0.80077448],\n",
       "       [-1.52897873,  0.12933835, -1.30334504, -1.31697621],\n",
       "       [ 2.01647919, -0.5553941 ,  1.36720604,  0.93313389],\n",
       "       [-0.89586124,  1.72704741, -1.30334504, -1.18461679]])"
      ]
     },
     "execution_count": 8,
     "metadata": {},
     "output_type": "execute_result"
    }
   ],
   "source": [
    "x_test"
   ]
  },
  {
   "cell_type": "code",
   "execution_count": 9,
   "metadata": {},
   "outputs": [
    {
     "data": {
      "text/plain": [
       "KNeighborsClassifier(algorithm='auto', leaf_size=30, metric='minkowski',\n",
       "                     metric_params=None, n_jobs=None, n_neighbors=17, p=2,\n",
       "                     weights='uniform')"
      ]
     },
     "execution_count": 9,
     "metadata": {},
     "output_type": "execute_result"
    }
   ],
   "source": [
    "from sklearn.neighbors import KNeighborsClassifier\n",
    "classifier1=KNeighborsClassifier(n_neighbors=17)\n",
    "classifier1.fit(x_train,y_train)"
   ]
  },
  {
   "cell_type": "code",
   "execution_count": 10,
   "metadata": {},
   "outputs": [],
   "source": [
    "y_pred=classifier1.predict(x_test)"
   ]
  },
  {
   "cell_type": "code",
   "execution_count": 11,
   "metadata": {},
   "outputs": [
    {
     "name": "stdout",
     "output_type": "stream",
     "text": [
      "[[11  0  0]\n",
      " [ 0  6  0]\n",
      " [ 0  0 13]]\n",
      "                 precision    recall  f1-score   support\n",
      "\n",
      "    Iris-setosa       1.00      1.00      1.00        11\n",
      "Iris-versicolor       1.00      1.00      1.00         6\n",
      " Iris-virginica       1.00      1.00      1.00        13\n",
      "\n",
      "       accuracy                           1.00        30\n",
      "      macro avg       1.00      1.00      1.00        30\n",
      "   weighted avg       1.00      1.00      1.00        30\n",
      "\n"
     ]
    }
   ],
   "source": [
    "from sklearn.metrics import classification_report,confusion_matrix\n",
    "print(confusion_matrix(y_test,y_pred))\n",
    "print(classification_report(y_test,y_pred))"
   ]
  },
  {
   "cell_type": "code",
   "execution_count": 12,
   "metadata": {},
   "outputs": [],
   "source": [
    "error=[]"
   ]
  },
  {
   "cell_type": "code",
   "execution_count": 13,
   "metadata": {},
   "outputs": [],
   "source": [
    "for i in range(1,40,2):\n",
    "    knn=KNeighborsClassifier(n_neighbors=i)\n",
    "    knn.fit(x_train,y_train)\n",
    "    pred_i=knn.predict(x_test)\n",
    "    error.append(np.mean(pred_i != y_test))\n",
    "    #!= refers to not equal to."
   ]
  },
  {
   "cell_type": "code",
   "execution_count": 14,
   "metadata": {},
   "outputs": [
    {
     "data": {
      "text/plain": [
       "[0.0,\n",
       " 0.03333333333333333,\n",
       " 0.03333333333333333,\n",
       " 0.03333333333333333,\n",
       " 0.0,\n",
       " 0.0,\n",
       " 0.0,\n",
       " 0.0,\n",
       " 0.0,\n",
       " 0.0,\n",
       " 0.0,\n",
       " 0.0,\n",
       " 0.0,\n",
       " 0.0,\n",
       " 0.03333333333333333,\n",
       " 0.06666666666666667,\n",
       " 0.06666666666666667,\n",
       " 0.13333333333333333,\n",
       " 0.13333333333333333,\n",
       " 0.16666666666666666]"
      ]
     },
     "execution_count": 14,
     "metadata": {},
     "output_type": "execute_result"
    }
   ],
   "source": [
    "error"
   ]
  },
  {
   "cell_type": "code",
   "execution_count": 15,
   "metadata": {},
   "outputs": [
    {
     "data": {
      "text/plain": [
       "<Figure size 864x432 with 0 Axes>"
      ]
     },
     "execution_count": 15,
     "metadata": {},
     "output_type": "execute_result"
    },
    {
     "data": {
      "text/plain": [
       "<Figure size 864x432 with 0 Axes>"
      ]
     },
     "metadata": {},
     "output_type": "display_data"
    }
   ],
   "source": [
    "plt.figure(figsize=(12,6))"
   ]
  },
  {
   "cell_type": "code",
   "execution_count": 16,
   "metadata": {},
   "outputs": [
    {
     "data": {
      "text/plain": [
       "Text(0, 0.5, 'Mean Error')"
      ]
     },
     "execution_count": 16,
     "metadata": {},
     "output_type": "execute_result"
    },
    {
     "data": {
      "image/png": "[encoded data removed]",
      "text/plain": [
       "<Figure size 864x432 with 1 Axes>"
      ]
     },
     "metadata": {
      "needs_background": "light"
     },
     "output_type": "display_data"
    }
   ],
   "source": [
    "plt.figure(figsize=(12,6))\n",
    "plt.plot(range(1,40,2),error,color='red',linestyle='dashed',marker='o',markerfacecolor='blue',markersize=10)\n",
    "plt.title('Error Rate K Value')\n",
    "plt.xlabel('K Value')\n",
    "plt.ylabel('Mean Error')"
   ]
  },
  {
   "cell_type": "code",
   "execution_count": null,
   "metadata": {},
   "outputs": [],
   "source": []
  }
 ],
 "metadata": {
  "kernelspec": {
   "display_name": "Python 3",
   "language": "python",
   "name": "python3"
  },
  "language_info": {
   "codemirror_mode": {
    "name": "ipython",
    "version": 3
   },
   "file_extension": ".py",
   "mimetype": "text/x-python",
   "name": "python",
   "nbconvert_exporter": "python",
   "pygments_lexer": "ipython3",
   "version": "3.7.4"
  }
 },
 "nbformat": 4,
 "nbformat_minor": 2
}
